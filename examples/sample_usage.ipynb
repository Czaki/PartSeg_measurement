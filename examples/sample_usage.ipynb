{
 "cells": [
  {
   "cell_type": "code",
   "execution_count": 16,
   "metadata": {
    "pycharm": {
     "name": "#%%\n"
    }
   },
   "outputs": [],
   "source": [
    "import numpy as np\n",
    "from pint import get_application_registry\n",
    "\n",
    "from PartSeg_measurement.measurements import volume, voxels, pixel_brightness, PixelOpEnum\n",
    "from PartSeg_measurement import MeasurementCalculation, measurement"
   ]
  },
  {
   "cell_type": "code",
   "execution_count": 17,
   "metadata": {
    "pycharm": {
     "name": "#%%\n"
    }
   },
   "outputs": [],
   "source": [
    "register = get_application_registry()"
   ]
  },
  {
   "cell_type": "code",
   "execution_count": 18,
   "metadata": {
    "pycharm": {
     "name": "#%%\n"
    }
   },
   "outputs": [],
   "source": [
    "calculation = MeasurementCalculation(\n",
    "    [\n",
    "        volume.bind(voxel_size=(2,1,1) * register.nm),\n",
    "        voxels,\n",
    "        pixel_brightness.bind(operation=PixelOpEnum.mean),\n",
    "        pixel_brightness.bind(operation=PixelOpEnum.mean) / volume.bind(voxel_size=(2,1,1) * register.nm)\n",
    "    ]\n",
    ")"
   ]
  },
  {
   "cell_type": "code",
   "execution_count": 25,
   "metadata": {
    "pycharm": {
     "name": "#%%\n"
    }
   },
   "outputs": [
    {
     "name": "stdout",
     "output_type": "stream",
     "text": [
      "Calculate the volume of the object marked with positive pixels\n",
      "on labels array.\n",
      "\n",
      "\n",
      "Parameters\n",
      "----------\n",
      "labels : Labels\n",
      "    array with information of object voxels\n",
      "voxel_size : (float, ...)\n",
      "    tuple with voxel size in each dimension\n",
      "per_component : bool\n",
      "    If calculate the volume per component or global\n"
     ]
    }
   ],
   "source": [
    "print(volume.__doc__)"
   ]
  },
  {
   "cell_type": "code",
   "execution_count": 26,
   "metadata": {
    "pycharm": {
     "name": "#%%\n"
    }
   },
   "outputs": [
    {
     "name": "stdout",
     "output_type": "stream",
     "text": [
      "\n",
      "    A class that represents a calculation of multiple measurements.\n",
      "    \n"
     ]
    }
   ],
   "source": [
    "print(calculation.__doc__)"
   ]
  },
  {
   "cell_type": "code",
   "execution_count": 21,
   "metadata": {
    "pycharm": {
     "name": "#%%\n"
    }
   },
   "outputs": [
    {
     "data": {
      "text/plain": [
       "[432 <Unit('nanometer ** 3')>,\n",
       " 216 <Unit('pixel')>,\n",
       " 0.5184268969839037 <Unit('lux')>,\n",
       " 0.001200062261536814 <Unit('lux / nanometer ** 3')>]"
      ]
     },
     "execution_count": 21,
     "metadata": {},
     "output_type": "execute_result"
    }
   ],
   "source": [
    "image = np.random.default_rng().uniform(size=(10,10,10))\n",
    "labels = np.zeros(image.shape, dtype=np.uint8)\n",
    "labels[2:-2,2:-2,2:-2] = 1\n",
    "\n",
    "calculation(labels=labels, image=image)"
   ]
  },
  {
   "cell_type": "code",
   "execution_count": 27,
   "metadata": {
    "pycharm": {
     "name": "#%%\n"
    }
   },
   "outputs": [
    {
     "name": "stdout",
     "output_type": "stream",
     "text": [
      "Pixel brightness / Volume\n",
      "\n",
      "Pixel brightness: Calculate the sum of the pixel brightness of the object marked\n",
      "\n",
      "Volume: Calculate the volume of the object marked with positive pixels\n",
      "\n",
      "Parameters\n",
      "----------\n",
      "labels : Labels\n",
      "    array with information of object voxels\n",
      "image : Image\n",
      "    array with pixel brightness\n",
      "per_component : bool\n",
      "    If calculate the volume per component or global\n"
     ]
    }
   ],
   "source": [
    "comb = pixel_brightness.bind(operation=PixelOpEnum.mean) / volume.bind(voxel_size=(2,1,1) * register.nm)\n",
    "print(comb.__doc__)"
   ]
  }
 ],
 "metadata": {
  "kernelspec": {
   "display_name": "Python 3 (ipykernel)",
   "language": "python",
   "name": "python3"
  },
  "language_info": {
   "codemirror_mode": {
    "name": "ipython",
    "version": 3
   },
   "file_extension": ".py",
   "mimetype": "text/x-python",
   "name": "python",
   "nbconvert_exporter": "python",
   "pygments_lexer": "ipython3",
   "version": "3.10.4"
  }
 },
 "nbformat": 4,
 "nbformat_minor": 1
}
